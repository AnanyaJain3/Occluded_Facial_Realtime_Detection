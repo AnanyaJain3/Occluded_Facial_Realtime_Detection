{
  "nbformat": 4,
  "nbformat_minor": 0,
  "metadata": {
    "colab": {
      "provenance": [],
      "private_outputs": true,
      "include_colab_link": true
    },
    "kernelspec": {
      "name": "python3",
      "display_name": "Python 3"
    },
    "accelerator": "GPU"
  },
  "cells": [
    {
      "cell_type": "markdown",
      "metadata": {
        "id": "view-in-github",
        "colab_type": "text"
      },
      "source": [
        "<a href=\"https://colab.research.google.com/github/AnanyaJain3/Occluded_Facial_Realtime_Detection/blob/main/Collab_files/5_Similarity.ipynb\" target=\"_parent\"><img src=\"https://colab.research.google.com/assets/colab-badge.svg\" alt=\"Open In Colab\"/></a>"
      ]
    },
    {
      "cell_type": "code",
      "metadata": {
        "id": "NIIYenUNqzf-"
      },
      "source": [
        "# Mount drive\n",
        "from google.colab import drive\n",
        "drive.mount('/content/drive')\n",
        "\n",
        "import os\n",
        "os.chdir('./drive/My Drive/Facial_detection/')"
      ],
      "execution_count": null,
      "outputs": []
    },
    {
      "cell_type": "code",
      "metadata": {
        "id": "clmOE6-dvRu2"
      },
      "source": [
        "!pip install face_recognition"
      ],
      "execution_count": null,
      "outputs": []
    },
    {
      "cell_type": "code",
      "source": [],
      "metadata": {
        "id": "Z8QCEf2ypGa8"
      },
      "execution_count": null,
      "outputs": []
    },
    {
      "cell_type": "code",
      "metadata": {
        "id": "KxV2Tq6LwCmJ"
      },
      "source": [
        "!pwd"
      ],
      "execution_count": null,
      "outputs": []
    },
    {
      "cell_type": "code",
      "metadata": {
        "id": "NIxx8Smxqdvp"
      },
      "source": [
        "import face_recognition\n",
        "from pathlib import Path\n",
        "from PIL import Image\n",
        "\n",
        "# Load the image of the person we want to find similar people for\n",
        "known_image = face_recognition.load_image_file(\"./images/women1.png\")\n",
        "\n",
        "# Encode the known image\n",
        "known_image_encoding = face_recognition.face_encodings(known_image)[0]\n",
        "\n",
        "# Variables to keep track of the most similar face match we've found\n",
        "best_face_distance = 1.0\n",
        "best_face_image = None\n",
        "\n",
        "# Loop over all the images we want to check for similar people\n",
        "for image_path in Path(\"./images\").glob(\"*.png\") or Path(\"./images\").glob(\"*.jpg\"):\n",
        "    # Load an image to check\n",
        "    unknown_image = face_recognition.load_image_file(image_path)\n",
        "\n",
        "    # Get the location of faces and face encodings for the current image\n",
        "    face_encodings = face_recognition.face_encodings(unknown_image)\n",
        "\n",
        "    # Check if any face encodings were detected in the current image\n",
        "    if not face_encodings:\n",
        "        continue\n",
        "\n",
        "    # Get the face distance between the known person and all the faces in this image\n",
        "    face_distance = face_recognition.face_distance(face_encodings, known_image_encoding)[0]\n",
        "\n",
        "    # If this face is more similar to our known image than we've seen so far, save it\n",
        "    if face_distance < best_face_distance:\n",
        "        # Save the new best face distance\n",
        "        best_face_distance = face_distance\n",
        "        # Extract a copy of the actual face image itself so we can display it\n",
        "        best_face_image = unknown_image\n",
        "        print(image_path)\n",
        "\n",
        "\n",
        "# Display the face image that we found to be the best match!\n",
        "if best_face_image is not None:\n",
        "    pil_image = Image.fromarray(best_face_image)\n",
        "    # pil_image.show()\n",
        "    pil_image\n",
        "else:\n",
        "    print(\"No matching face found in the images.\")\n",
        "\n",
        "\"\"\"\n",
        "\n",
        "import face_recognition\n",
        "from pathlib import Path\n",
        "from PIL import Image\n",
        "\n",
        "# Load the image of the person we want to find similar people for\n",
        "known_image = face_recognition.load_image_file(\"./images/cropped-3.jpg\")\n",
        "\n",
        "# Encode the known image\n",
        "known_image_encoding = face_recognition.face_encodings(known_image)[0]\n",
        "\n",
        "# Variables to keep track of the most similar face match we've found\n",
        "best_face_distance = 1.0\n",
        "best_face_image = None\n",
        "\n",
        "# Loop over all the images we want to check for similar people\n",
        "for image_path in Path(\"./images\").glob(\"*.png\" or \"*.jpg\"):\n",
        "    # Load an image to check\n",
        "    unknown_image = face_recognition.load_image_file(image_path)\n",
        "\n",
        "    # Get the location of faces and face encodings for the current image\n",
        "    face_encodings = face_recognition.face_encodings(unknown_image)\n",
        "\n",
        "    # Get the face distance between the known person and all the faces in this image\n",
        "    face_distance = face_recognition.face_distance(face_encodings, known_image_encoding)[0]\n",
        "\n",
        "    # If this face is more similar to our known image than we've seen so far, save it\n",
        "    if face_distance < best_face_distance:\n",
        "        # Save the new best face distance\n",
        "        best_face_distance = face_distance\n",
        "        # Extract a copy of the actual face image itself so we can display it\n",
        "        best_face_image = unknown_image\n",
        "        print(image_path)\n",
        "\n",
        "# Display the face image that we found to be the best match!\n",
        "pil_image = Image.fromarray(best_face_image)\n",
        "#pil_image.show()\n",
        "pil_image\n",
        "\"\"\""
      ],
      "execution_count": null,
      "outputs": []
    },
    {
      "cell_type": "code",
      "metadata": {
        "id": "axeXkBXTNa1i"
      },
      "source": [],
      "execution_count": null,
      "outputs": []
    }
  ]
}